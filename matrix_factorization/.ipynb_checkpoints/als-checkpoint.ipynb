{
 "cells": [
  {
   "cell_type": "code",
   "execution_count": 1,
   "metadata": {},
   "outputs": [
    {
     "name": "stdout",
     "output_type": "stream",
     "text": [
      "(10, 11)\n"
     ]
    }
   ],
   "source": [
    "import numpy as np\n",
    "\n",
    "# original rating matrix\n",
    "R = np.array([[2, 0, 0, 4, 4, 0, 0, 0, 0, 0, 0],\n",
    "              [0, 0, 0, 0, 0, 0, 0, 0, 0, 0, 1],\n",
    "              [0, 0, 0, 0, 0, 0, 0, 1, 0, 4, 0],\n",
    "              [3, 3, 4, 0, 3, 0, 0, 2, 2, 0, 0],\n",
    "              [5, 5, 5, 0, 0, 0, 0, 0, 0, 0, 0],\n",
    "              [0, 0, 0, 0, 0, 0, 7, 0, 0, 5, 0],\n",
    "              [4, 0, 4, 0, 0, 0, 0, 0, 0, 0, 5],\n",
    "              [0, 0, 0, 0, 0, 4, 0, 0, 0, 0, 4],\n",
    "              [0, 0, 0, 0, 0, 0, 5, 0, 0, 5, 0],\n",
    "              [0, 0, 0, 3, 0, 0, 0, 0, 4, 5, 0]])\n",
    "print(R.shape)"
   ]
  },
  {
   "cell_type": "code",
   "execution_count": 7,
   "metadata": {},
   "outputs": [
    {
     "name": "stdout",
     "output_type": "stream",
     "text": [
      "(20, 10)\n",
      "(20, 11)\n"
     ]
    }
   ],
   "source": [
    "# nf : dimension of latent factors\n",
    "# nu : number of users\n",
    "# ni : number of items\n",
    "nf = 20\n",
    "nu = R.shape[0]\n",
    "ni = R.shape[1]\n",
    "\n",
    "# X, Y : latent matrix of users and items\n",
    "X = np.random.rand(nf, nu).astype(np.float32) * 0.01\n",
    "Y = np.random.rand(nf, ni) * 0.01\n",
    "\n",
    "print(X.shape)\n",
    "print(Y.shape)"
   ]
  },
  {
   "cell_type": "code",
   "execution_count": 8,
   "metadata": {},
   "outputs": [
    {
     "name": "stdout",
     "output_type": "stream",
     "text": [
      "[[1 0 0 1 1 0 0 0 0 0 0]\n",
      " [0 0 0 0 0 0 0 0 0 0 1]\n",
      " [0 0 0 0 0 0 0 1 0 1 0]\n",
      " [1 1 1 0 1 0 0 1 1 0 0]\n",
      " [1 1 1 0 0 0 0 0 0 0 0]\n",
      " [0 0 0 0 0 0 1 0 0 1 0]\n",
      " [1 0 1 0 0 0 0 0 0 0 1]\n",
      " [0 0 0 0 0 1 0 0 0 0 1]\n",
      " [0 0 0 0 0 0 1 0 0 1 0]\n",
      " [0 0 0 1 0 0 0 0 1 1 0]]\n"
     ]
    }
   ],
   "source": [
    "# Pui = 1 if Rui > 0\n",
    "# Pui = 0 if Rui = 0\n",
    "P = np.copy(R)\n",
    "P[P > 0] = 1\n",
    "print(P)"
   ]
  },
  {
   "cell_type": "code",
   "execution_count": 9,
   "metadata": {},
   "outputs": [
    {
     "name": "stdout",
     "output_type": "stream",
     "text": [
      "[[21  1  1 41 41  1  1  1  1  1  1]\n",
      " [ 1  1  1  1  1  1  1  1  1  1 11]\n",
      " [ 1  1  1  1  1  1  1 11  1 41  1]\n",
      " [31 31 41  1 31  1  1 21 21  1  1]\n",
      " [51 51 51  1  1  1  1  1  1  1  1]\n",
      " [ 1  1  1  1  1  1 71  1  1 51  1]\n",
      " [41  1 41  1  1  1  1  1  1  1 51]\n",
      " [ 1  1  1  1  1 41  1  1  1  1 41]\n",
      " [ 1  1  1  1  1  1 51  1  1 51  1]\n",
      " [ 1  1  1 31  1  1  1  1 41 51  1]]\n"
     ]
    }
   ],
   "source": [
    "# Cui = 1 + alpha * Rui\n",
    "alpha = 10\n",
    "C = 1 + alpha * R\n",
    "print(C)"
   ]
  },
  {
   "cell_type": "code",
   "execution_count": null,
   "metadata": {},
   "outputs": [],
   "source": [
    "# C : confidence matrix\n",
    "# P : predict matrix\n",
    "# X : user latent matrix\n",
    "# Y : item latent matrix\n",
    "# r_lambda : regularization lambda\n",
    "def loss(C, P, xTy, X, Y, r_lambda):\n",
    "    predict_error = P - xTy\n",
    "    print(predict_error)\n",
    "\n",
    "r_lambda = 10\n",
    "xTy = np.matmul(np.transpose(X), Y)\n",
    "initial_loss = loss(C, P, xTy, X, Y, r_lambda)    \n",
    "# predict = np.matmul(np.transpose(X), Y)\n",
    "# loss = \n",
    "# print()"
   ]
  }
 ],
 "metadata": {
  "kernelspec": {
   "display_name": "Python 3",
   "language": "python",
   "name": "python3"
  },
  "language_info": {
   "codemirror_mode": {
    "name": "ipython",
    "version": 3
   },
   "file_extension": ".py",
   "mimetype": "text/x-python",
   "name": "python",
   "nbconvert_exporter": "python",
   "pygments_lexer": "ipython3",
   "version": "3.7.1"
  }
 },
 "nbformat": 4,
 "nbformat_minor": 2
}
