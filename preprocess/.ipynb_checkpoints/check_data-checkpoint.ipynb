{
 "cells": [
  {
   "cell_type": "code",
   "execution_count": 86,
   "metadata": {},
   "outputs": [],
   "source": [
    "import pandas as pd\n",
    "import os\n",
    "import nibabel as nib\n",
    "\n",
    "def check_nii_meta():\n",
    "    nii_path = os.path.abspath('../data/keyword_uniformity_test/abilities_uniformity-test_z_FDR_0.01.nii.gz')\n",
    "    nii_file = nib.load(nii_path)\n",
    "    print(nii_file)"
   ]
  },
  {
   "cell_type": "code",
   "execution_count": 87,
   "metadata": {
    "scrolled": true
   },
   "outputs": [
    {
     "name": "stdout",
     "output_type": "stream",
     "text": [
      "<class 'nibabel.nifti1.Nifti1Image'>\n",
      "data shape (91, 109, 91)\n",
      "affine: \n",
      "[[  -2.    0.    0.   90.]\n",
      " [   0.    2.    0. -126.]\n",
      " [   0.    0.    2.  -72.]\n",
      " [   0.    0.    0.    1.]]\n",
      "metadata:\n",
      "<class 'nibabel.nifti1.Nifti1Header'> object, endian='<'\n",
      "sizeof_hdr      : 348\n",
      "data_type       : b''\n",
      "db_name         : b''\n",
      "extents         : 0\n",
      "session_error   : 0\n",
      "regular         : b'r'\n",
      "dim_info        : 0\n",
      "dim             : [  3  91 109  91   1   1   1   1]\n",
      "intent_p1       : 0.0\n",
      "intent_p2       : 0.0\n",
      "intent_p3       : 0.0\n",
      "intent_code     : none\n",
      "datatype        : float64\n",
      "bitpix          : 64\n",
      "slice_start     : 0\n",
      "pixdim          : [-1.  2.  2.  2.  1.  1.  1.  1.]\n",
      "vox_offset      : 0.0\n",
      "scl_slope       : nan\n",
      "scl_inter       : nan\n",
      "slice_end       : 0\n",
      "slice_code      : unknown\n",
      "xyzt_units      : 10\n",
      "cal_max         : 19.146797\n",
      "cal_min         : -0.0\n",
      "slice_duration  : 0.0\n",
      "toffset         : 0.0\n",
      "glmax           : 0\n",
      "glmin           : 0\n",
      "descrip         : b'FSL3.3'\n",
      "aux_file        : b''\n",
      "qform_code      : mni\n",
      "sform_code      : mni\n",
      "quatern_b       : 0.0\n",
      "quatern_c       : 1.0\n",
      "quatern_d       : 0.0\n",
      "qoffset_x       : 90.0\n",
      "qoffset_y       : -126.0\n",
      "qoffset_z       : -72.0\n",
      "srow_x          : [-2.  0.  0. 90.]\n",
      "srow_y          : [   0.    2.    0. -126.]\n",
      "srow_z          : [  0.   0.   2. -72.]\n",
      "intent_name     : b''\n",
      "magic           : b'n+1'\n"
     ]
    }
   ],
   "source": [
    "# 하나의 nii 파일에 담겨있는 메타 데이터 확인\n",
    "check_nii_meta()"
   ]
  },
  {
   "cell_type": "code",
   "execution_count": 88,
   "metadata": {},
   "outputs": [],
   "source": [
    "def check_nii_activation():\n",
    "    nii_path = os.path.abspath('../data/keyword_uniformity_test/abilities_uniformity-test_z_FDR_0.01.nii.gz')\n",
    "    nii_file = nib.load(nii_path)\n",
    "    nii_data = nii_file.get_data()\n",
    "    print('nii activation data format :', nii_data.shape)\n",
    "    print('first 3 rows of activation score data')\n",
    "    for i, row in enumerate(nii_data):\n",
    "        if i > 2:\n",
    "            break\n",
    "        print(row)"
   ]
  },
  {
   "cell_type": "code",
   "execution_count": 89,
   "metadata": {},
   "outputs": [
    {
     "name": "stdout",
     "output_type": "stream",
     "text": [
      "nii activation data format : (91, 109, 91)\n",
      "first 3 rows of activation score data\n",
      "[[0. 0. 0. ... 0. 0. 0.]\n",
      " [0. 0. 0. ... 0. 0. 0.]\n",
      " [0. 0. 0. ... 0. 0. 0.]\n",
      " ...\n",
      " [0. 0. 0. ... 0. 0. 0.]\n",
      " [0. 0. 0. ... 0. 0. 0.]\n",
      " [0. 0. 0. ... 0. 0. 0.]]\n",
      "[[0. 0. 0. ... 0. 0. 0.]\n",
      " [0. 0. 0. ... 0. 0. 0.]\n",
      " [0. 0. 0. ... 0. 0. 0.]\n",
      " ...\n",
      " [0. 0. 0. ... 0. 0. 0.]\n",
      " [0. 0. 0. ... 0. 0. 0.]\n",
      " [0. 0. 0. ... 0. 0. 0.]]\n",
      "[[0. 0. 0. ... 0. 0. 0.]\n",
      " [0. 0. 0. ... 0. 0. 0.]\n",
      " [0. 0. 0. ... 0. 0. 0.]\n",
      " ...\n",
      " [0. 0. 0. ... 0. 0. 0.]\n",
      " [0. 0. 0. ... 0. 0. 0.]\n",
      " [0. 0. 0. ... 0. 0. 0.]]\n"
     ]
    }
   ],
   "source": [
    "# nii 파일 하나가 포함하는 activation score 데이터 확인\n",
    "# 3차원 배열 형태이며, 각 value는 특정 인덱스의 복셀이 활성화 된 정도를 나타낸다.\n",
    "check_nii_activation()"
   ]
  },
  {
   "cell_type": "code",
   "execution_count": 90,
   "metadata": {},
   "outputs": [],
   "source": [
    "def check_only_activated():\n",
    "    keyword = 'abilities'\n",
    "    nii_path = os.path.abspath('../data/keyword_uniformity_test/%s_uniformity-test_z_FDR_0.01.nii.gz' % keyword)\n",
    "    nii_file = nib.load(nii_path)\n",
    "    nii_data = nii_file.get_data()\n",
    "    \n",
    "    first_activated = False\n",
    "    activated_row = []\n",
    "    for i in range(len(nii_data)):\n",
    "        for j in range(len(nii_data[0])):\n",
    "            for k in range(len(nii_data[0][0])):\n",
    "                if abs(nii_data[i][j][k]) != 0.0:\n",
    "                    cur_id = '%d_%d_%d' % (i, j, k)\n",
    "                    cur_score = nii_data[i][j][k]\n",
    "                    activated_row.append([cur_id, keyword, cur_score])\n",
    "                    \n",
    "    nii_df = pd.DataFrame(data=activated_row)\n",
    "    nii_df.columns = ['voxel_id', 'keyword', 'score']\n",
    "    print('keyword: %s' % keyword)\n",
    "    print('total actived voxels: %d\\n' % nii_df.shape[0])\n",
    "    print(nii_df.head())"
   ]
  },
  {
   "cell_type": "code",
   "execution_count": 91,
   "metadata": {},
   "outputs": [
    {
     "name": "stdout",
     "output_type": "stream",
     "text": [
      "keyword: abilities\n",
      "total actived voxels: 10542\n",
      "\n",
      "   voxel_id    keyword     score\n",
      "0  12_53_37  abilities  3.693027\n",
      "1  13_52_36  abilities  4.175957\n",
      "2  13_52_37  abilities  3.693027\n",
      "3  13_53_36  abilities  3.693027\n",
      "4  13_53_37  abilities  3.693027\n"
     ]
    }
   ],
   "source": [
    "# 실제 활성화 된 복셀 인덱스를 찾아서 정리한 모습\n",
    "# 1335개의 nii 파일들을 모두 불러와, 이 처럼 활성화 된 데이터만 찾아서 csv 파일에 쓴다.\n",
    "# 그 결과로 전체 nii 파일에서 활성화 정보만 담고 있는 압축 텍스트 파일이 만들어진다.\n",
    "check_only_activated()"
   ]
  },
  {
   "cell_type": "code",
   "execution_count": 96,
   "metadata": {},
   "outputs": [],
   "source": [
    "def check_sorted_activated():\n",
    "    sorted_path = os.path.abspath('../data/results/sorted_sample.csv')\n",
    "    sorted_df = pd.read_csv(sorted_path)\n",
    "    print(sorted_df.head())"
   ]
  },
  {
   "cell_type": "code",
   "execution_count": 97,
   "metadata": {},
   "outputs": [
    {
     "name": "stdout",
     "output_type": "stream",
     "text": [
      "   voxel_id             keyword     score\n",
      "0  10_41_33              adults -3.958508\n",
      "1  10_41_33                 age -3.439816\n",
      "2  10_41_33            anterior -4.977172\n",
      "3  10_41_33  anterior cingulate -3.386471\n",
      "4  10_41_33           attention -3.541871\n"
     ]
    }
   ],
   "source": [
    "# 압축 텍스트 파일은 다시 복셀 아이디로 sorting을 한다. \n",
    "# 그 결과로 동일한 복셀 아이디 별로 어떤 키워드에 얼마나 활성화 되었는 지를 확인할 수 있다.\n",
    "# 이를 기반으로 X축은 복셀 아이디, Y 축은 키워드, value는 score인 sparse matrix를 구성할 수 있다.\n",
    "check_sorted_activated()"
   ]
  },
  {
   "cell_type": "code",
   "execution_count": 115,
   "metadata": {},
   "outputs": [],
   "source": [
    "from scipy.sparse import csr_matrix\n",
    "import csv\n",
    "\n",
    "\n",
    "def get_csr_matrix(filepath):\n",
    "    indptr = [0]\n",
    "    indices = []\n",
    "    data = []\n",
    "    vocabulary = {}\n",
    "    voxel_id_set = set()\n",
    "    total_rows = get_num_lines(filepath)\n",
    "    file_csv = csv.reader(open(filepath, 'r'))\n",
    "    prev_voxel_id = None\n",
    "    for i, row in enumerate(file_csv):\n",
    "        if i == 0:\n",
    "            continue\n",
    "        if not prev_voxel_id:\n",
    "            prev_voxel_id = row[0]\n",
    "        voxel_id_set.add(row[0])\n",
    "        index = vocabulary.setdefault(row[1], len(vocabulary))\n",
    "        indices.append(index)\n",
    "        data.append(float(row[2]))\n",
    "\n",
    "        if row[0] != prev_voxel_id:\n",
    "            indptr.append(i - 1)\n",
    "            prev_voxel_id = row[0]\n",
    "    voxel_id_list = list(voxel_id_set)\n",
    "    voxel_id_list.sort()\n",
    "    nii_csr_matrix = csr_matrix((data, indices, indptr), dtype=int)\n",
    "    return voxel_id_list, nii_csr_matrix"
   ]
  },
  {
   "cell_type": "code",
   "execution_count": 120,
   "metadata": {},
   "outputs": [],
   "source": [
    "def check_sparse_matrix():\n",
    "    matrix_sample_path = os.path.abspath('../data/results/matrix_sample.csv')\n",
    "    voxel_id_list, nii_csr_matrix = get_csr_matrix(matrix_sample_path)\n",
    "    print(voxel_id_list)\n",
    "    print(nii_csr_matrix.toarray())"
   ]
  },
  {
   "cell_type": "code",
   "execution_count": 121,
   "metadata": {},
   "outputs": [
    {
     "name": "stdout",
     "output_type": "stream",
     "text": [
      "['10_41_33', '10_41_34', '10_41_35', '10_41_36', '10_41_37', '10_41_38', '10_42_32', '10_42_34', '10_42_36', '10_42_38']\n",
      "[[-3 -3 -4 -3  0  0  0  0  0  0  0  0  0  0  0  0  0  0]\n",
      " [ 0  0  0  0 -3 -3 -3 -5 -3 -4  0  0  0  0  0  0  0  0]\n",
      " [ 0  0  0  0  0  0  0  0  0  0 -4 -3 -4  0  0  0  0  0]\n",
      " [ 0  0  0  0  0  0  0  0  0  0  0  0  0 -3 -4 -3 -3 -3]\n",
      " [-3 -3  0  0  0  0  0  0  0  0  0  0  0  0  0  0  0  0]\n",
      " [ 0  0 -4 -3 -3 -3  0  0  0  0  0  0  0  0  0  0  0  0]\n",
      " [ 0  0  0  0  0  0 -3 -5 -3 -4  0  0  0  0  0  0  0  0]\n",
      " [ 0  0  0  0  0  0  0  0  0  0 -4 -3 -4  0  0  0  0  0]\n",
      " [ 0  0  0  0  0  0  0  0  0  0  0  0  0 -3 -4 -3  0  0]]\n"
     ]
    }
   ],
   "source": [
    "check_sparse_matrix()"
   ]
  },
  {
   "cell_type": "code",
   "execution_count": null,
   "metadata": {},
   "outputs": [],
   "source": []
  }
 ],
 "metadata": {
  "kernelspec": {
   "display_name": "Python 3",
   "language": "python",
   "name": "python3"
  },
  "language_info": {
   "codemirror_mode": {
    "name": "ipython",
    "version": 3
   },
   "file_extension": ".py",
   "mimetype": "text/x-python",
   "name": "python",
   "nbconvert_exporter": "python",
   "pygments_lexer": "ipython3",
   "version": "3.7.1"
  }
 },
 "nbformat": 4,
 "nbformat_minor": 2
}
