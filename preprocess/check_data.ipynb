{
 "cells": [
  {
   "cell_type": "code",
   "execution_count": 86,
   "metadata": {},
   "outputs": [],
   "source": [
    "import pandas as pd\n",
    "import os\n",
    "import nibabel as nib\n",
    "\n",
    "def check_nii_meta():\n",
    "    nii_path = os.path.abspath('../data/keyword_uniformity_test/abilities_uniformity-test_z_FDR_0.01.nii.gz')\n",
    "    nii_file = nib.load(nii_path)\n",
    "    print(nii_file)"
   ]
  },
  {
   "cell_type": "code",
   "execution_count": 158,
   "metadata": {
    "scrolled": true
   },
   "outputs": [],
   "source": [
    "# 하나의 nii 파일에 담겨있는 메타 데이터 확인\n",
    "check_nii_meta()"
   ]
  },
  {
   "cell_type": "code",
   "execution_count": 88,
   "metadata": {},
   "outputs": [],
   "source": [
    "def check_nii_activation():\n",
    "    nii_path = os.path.abspath('../data/keyword_uniformity_test/abilities_uniformity-test_z_FDR_0.01.nii.gz')\n",
    "    nii_file = nib.load(nii_path)\n",
    "    nii_data = nii_file.get_data()\n",
    "    print('nii activation data format :', nii_data.shape)\n",
    "    print('first 3 rows of activation score data')\n",
    "    for i, row in enumerate(nii_data):\n",
    "        if i > 2:\n",
    "            break\n",
    "        print(row)"
   ]
  },
  {
   "cell_type": "code",
   "execution_count": 159,
   "metadata": {},
   "outputs": [],
   "source": [
    "# nii 파일 하나가 포함하는 activation score 데이터 확인\n",
    "# 3차원 배열 형태이며, 각 value는 특정 인덱스의 복셀이 활성화 된 정도를 나타낸다.\n",
    "check_nii_activation()"
   ]
  },
  {
   "cell_type": "code",
   "execution_count": 90,
   "metadata": {},
   "outputs": [],
   "source": [
    "def check_only_activated():\n",
    "    keyword = 'abilities'\n",
    "    nii_path = os.path.abspath('../data/keyword_uniformity_test/%s_uniformity-test_z_FDR_0.01.nii.gz' % keyword)\n",
    "    nii_file = nib.load(nii_path)\n",
    "    nii_data = nii_file.get_data()\n",
    "    \n",
    "    first_activated = False\n",
    "    activated_row = []\n",
    "    for i in range(len(nii_data)):\n",
    "        for j in range(len(nii_data[0])):\n",
    "            for k in range(len(nii_data[0][0])):\n",
    "                if abs(nii_data[i][j][k]) != 0.0:\n",
    "                    cur_id = '%d_%d_%d' % (i, j, k)\n",
    "                    cur_score = nii_data[i][j][k]\n",
    "                    activated_row.append([cur_id, keyword, cur_score])\n",
    "                    \n",
    "    nii_df = pd.DataFrame(data=activated_row)\n",
    "    nii_df.columns = ['voxel_id', 'keyword', 'score']\n",
    "    print('keyword: %s' % keyword)\n",
    "    print('total actived voxels: %d\\n' % nii_df.shape[0])\n",
    "    print(nii_df.head())"
   ]
  },
  {
   "cell_type": "code",
   "execution_count": 160,
   "metadata": {},
   "outputs": [],
   "source": [
    "# 실제 활성화 된 복셀 인덱스를 찾아서 정리한 모습\n",
    "# 1335개의 nii 파일들을 모두 불러와, 이 처럼 활성화 된 데이터만 찾아서 csv 파일에 쓴다.\n",
    "# 그 결과로 전체 nii 파일에서 활성화 정보만 담고 있는 압축 텍스트 파일이 만들어진다.\n",
    "check_only_activated()"
   ]
  },
  {
   "cell_type": "code",
   "execution_count": 96,
   "metadata": {},
   "outputs": [],
   "source": [
    "def check_sorted_activated():\n",
    "    sorted_path = os.path.abspath('../data/results/sorted_sample.csv')\n",
    "    sorted_df = pd.read_csv(sorted_path)\n",
    "    print(sorted_df.head())"
   ]
  },
  {
   "cell_type": "code",
   "execution_count": 161,
   "metadata": {},
   "outputs": [],
   "source": [
    "# 압축 텍스트 파일은 다시 복셀 아이디로 sorting을 한다. \n",
    "# 그 결과로 동일한 복셀 아이디 별로 어떤 키워드에 얼마나 활성화 되었는 지를 확인할 수 있다.\n",
    "# 이를 기반으로 X축은 복셀 아이디, Y 축은 키워드, value는 score인 sparse matrix를 구성할 수 있다.\n",
    "check_sorted_activated()"
   ]
  },
  {
   "cell_type": "code",
   "execution_count": 143,
   "metadata": {},
   "outputs": [],
   "source": [
    "from scipy.sparse import csr_matrix\n",
    "import csv\n",
    "\n",
    "# sparse matrix를 만들어주는 함수\n",
    "def get_csr_matrix(filepath):\n",
    "    indptr = [0]\n",
    "    indices = []\n",
    "    data = []\n",
    "    vocabulary = {}\n",
    "    voxel_id_set = set()\n",
    "    total_rows = get_num_lines(filepath)\n",
    "    file_csv = csv.reader(open(filepath, 'r'))\n",
    "    prev_voxel_id = None\n",
    "    \n",
    "    count = 0\n",
    "    for i, row in enumerate(file_csv):\n",
    "        count += 1\n",
    "        if i == 0:\n",
    "            continue\n",
    "        if not prev_voxel_id:\n",
    "            prev_voxel_id = row[0]\n",
    "        voxel_id_set.add(row[0])\n",
    "        index = vocabulary.setdefault(row[1], len(vocabulary))\n",
    "        indices.append(index)\n",
    "        data.append(float(row[2]))\n",
    "\n",
    "        if row[0] != prev_voxel_id:\n",
    "            indptr.append(i - 1)\n",
    "            prev_voxel_id = row[0]\n",
    "    indptr.append(count - 1)\n",
    "    voxel_id_list = list(voxel_id_set)\n",
    "    voxel_id_list.sort()\n",
    "    nii_csr_matrix = csr_matrix((data, indices, indptr), dtype=int)\n",
    "    return voxel_id_list, nii_csr_matrix, vocabulary"
   ]
  },
  {
   "cell_type": "code",
   "execution_count": 156,
   "metadata": {},
   "outputs": [],
   "source": [
    "# 활성화 영역 정보만 압축한 텍스트 가운데 일부에 해당하는 샘플 데이터를 읽어옴\n",
    "# 이를 기반으로 Matrix Factorization을 진행하기 위한 Sparse Data 형식을 만듬\n",
    "def check_sparse_matrix():\n",
    "    matrix_sample_path = os.path.abspath('../data/results/matrix_sample.csv')\n",
    "    voxel_id_list, nii_csr_matrix, vocabulary = get_csr_matrix(matrix_sample_path)\n",
    "    matrix_df = pd.DataFrame(data=nii_csr_matrix.toarray(), index = voxel_id_list)\n",
    "    matrix_df.columns = vocabulary.keys()\n",
    "    pd.options.display.max_columns = 10\n",
    "    print(matrix_df.shape)\n",
    "    print(matrix_df)"
   ]
  },
  {
   "cell_type": "code",
   "execution_count": 162,
   "metadata": {},
   "outputs": [],
   "source": [
    "check_sparse_matrix()"
   ]
  }
 ],
 "metadata": {
  "kernelspec": {
   "display_name": "Python 3",
   "language": "python",
   "name": "python3"
  },
  "language_info": {
   "codemirror_mode": {
    "name": "ipython",
    "version": 3
   },
   "file_extension": ".py",
   "mimetype": "text/x-python",
   "name": "python",
   "nbconvert_exporter": "python",
   "pygments_lexer": "ipython3",
   "version": "3.7.1"
  }
 },
 "nbformat": 4,
 "nbformat_minor": 2
}
